{
 "cells": [
  {
   "cell_type": "code",
   "execution_count": 5,
   "metadata": {},
   "outputs": [],
   "source": [
    "import sqlite3\n",
    "import os\n",
    "import csv"
   ]
  },
  {
   "cell_type": "code",
   "execution_count": 6,
   "metadata": {},
   "outputs": [
    {
     "name": "stdout",
     "output_type": "stream",
     "text": [
      "['Name', 'max_life_expectancy', 'good_with_children', 'good_with_other_dogs', 'good_with_strangers', 'playfulness', 'protectiveness', 'barking', 'Dog_api_id', 'description', 'popularity', 'temperament', 'grooming_frequency_category', 'shedding_category', 'energy_level_category', 'trainability_category', 'demeanor_category', 'size']\n"
     ]
    }
   ],
   "source": [
    "with open('..\\data\\dog_breeds.csv', 'r') as FILE:\n",
    "    reader = csv.reader(FILE)\n",
    "    data = list(reader)\n",
    "\n",
    "columns = data[0]\n",
    "data = data[1:]\n",
    "print(columns)\n"
   ]
  },
  {
   "cell_type": "code",
   "execution_count": 7,
   "metadata": {},
   "outputs": [],
   "source": [
    "db_path = r'..\\DoggyMatch\\app\\src\\main\\assets\\database\\doggy.db'\n",
    "connection = sqlite3.connect(db_path)\n",
    "cursor = connection.cursor()\n",
    "\n",
    "# Drop table if it exists\n",
    "cursor.execute(\"DROP TABLE IF EXISTS dog_breeds;\")\n",
    "connection.commit()\n",
    "\n",
    "# Create the table\n",
    "sql = \"\"\"\n",
    "CREATE TABLE dog_breeds(\n",
    "    id INTEGER PRIMARY KEY AUTOINCREMENT,\n",
    "    name TEXT,\n",
    "    max_life_expectancy INTEGER,\n",
    "    good_with_children INTEGER,\n",
    "    good_with_other_dogs INTEGER,\n",
    "    good_with_strangers INTEGER,\n",
    "    playfulness INTEGER,\n",
    "    protectiveness INTEGER,\n",
    "    barking INTEGER,\n",
    "    dog_api_id INTEGER,\n",
    "    description TEXT,\n",
    "    popularity TEXT,\n",
    "    temperament TEXT,\n",
    "    grooming_frequency_cateegory TEXT,\n",
    "    shedding_category TEXT,\n",
    "    energy_level_category TEXT,\n",
    "    trainability_category TEXT,\n",
    "    demeanor_category TEXT,\n",
    "    size TEXT\n",
    ");\n",
    "\"\"\"\n",
    "\n",
    "cursor.execute(sql)\n",
    "connection.commit()"
   ]
  },
  {
   "cell_type": "code",
   "execution_count": 8,
   "metadata": {},
   "outputs": [],
   "source": [
    "insert_sql = \"\"\"\n",
    "INSERT INTO dog_breeds(\n",
    "    name,\n",
    "    max_life_expectancy,\n",
    "    good_with_children,\n",
    "    good_with_other_dogs,\n",
    "    good_with_strangers,\n",
    "    playfulness,\n",
    "    protectiveness,\n",
    "    barking,\n",
    "    dog_api_id,\n",
    "    description,\n",
    "    popularity,\n",
    "    temperament,\n",
    "    grooming_frequency_cateegory,\n",
    "    shedding_category,\n",
    "    energy_level_category,\n",
    "    trainability_category,\n",
    "    demeanor_category,\n",
    "    size\n",
    ")\n",
    "VALUES(?,?,?,?,?,?,?,?,?,?,?,?,?,?,?,?,?,?)\n",
    "\"\"\"\n",
    "\n",
    "cursor.executemany(insert_sql, data)\n",
    "connection.commit()\n",
    "connection.close()\n",
    "\n"
   ]
  },
  {
   "cell_type": "code",
   "execution_count": null,
   "metadata": {},
   "outputs": [],
   "source": []
  }
 ],
 "metadata": {
  "kernelspec": {
   "display_name": "dev",
   "language": "python",
   "name": "python3"
  },
  "language_info": {
   "codemirror_mode": {
    "name": "ipython",
    "version": 3
   },
   "file_extension": ".py",
   "mimetype": "text/x-python",
   "name": "python",
   "nbconvert_exporter": "python",
   "pygments_lexer": "ipython3",
   "version": "3.11.11"
  }
 },
 "nbformat": 4,
 "nbformat_minor": 2
}
