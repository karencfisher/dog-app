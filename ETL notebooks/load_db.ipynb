{
 "cells": [
  {
   "cell_type": "code",
   "execution_count": 1,
   "metadata": {},
   "outputs": [],
   "source": [
    "import sqlite3\n",
    "import os\n",
    "import csv"
   ]
  },
  {
   "cell_type": "markdown",
   "metadata": {},
   "source": [
    "Create/connect to SQLite DB"
   ]
  },
  {
   "cell_type": "code",
   "execution_count": 2,
   "metadata": {},
   "outputs": [],
   "source": [
    "db_path = r'..\\DoggyMatch\\app\\src\\main\\assets\\database\\doggy.db'\n",
    "connection = sqlite3.connect(db_path)\n",
    "cursor = connection.cursor()"
   ]
  },
  {
   "cell_type": "markdown",
   "metadata": {},
   "source": [
    "Load breed selection data"
   ]
  },
  {
   "cell_type": "code",
   "execution_count": 3,
   "metadata": {},
   "outputs": [
    {
     "name": "stdout",
     "output_type": "stream",
     "text": [
      "['size', 'popularity', 'energy_level_category', 'trainability_category', 'grooming_frequency_category', 'shedding_category', 'demeanor_category', 'friendliness']\n"
     ]
    }
   ],
   "source": [
    "with open('..\\data\\dog_breeds_select.csv', 'r') as FILE:\n",
    "    reader = csv.reader(FILE)\n",
    "    data = list(reader)\n",
    "\n",
    "columns = data[0]\n",
    "data = data[1:]\n",
    "print(columns)\n"
   ]
  },
  {
   "cell_type": "code",
   "execution_count": 4,
   "metadata": {},
   "outputs": [],
   "source": [
    "# Drop table if it exists\n",
    "cursor.execute(\"DROP TABLE IF EXISTS dog_breeds_selectors;\")\n",
    "connection.commit()\n",
    "\n",
    "# Create the table\n",
    "sql = \"\"\"\n",
    "CREATE TABLE dogBreedsSelectors(\n",
    "    id INTEGER PRIMARY KEY AUTOINCREMENT,\n",
    "    size TEXT,\n",
    "    popularity TEXT,\n",
    "    energy TEXT,\n",
    "    trainability TEXT,\n",
    "    grooming TEXT,\n",
    "    shedding TEXT,\n",
    "    demeanor TEXT,\n",
    "    friendliness TEXT\n",
    ");\n",
    "\"\"\"\n",
    "\n",
    "cursor.execute(sql)\n",
    "connection.commit()"
   ]
  },
  {
   "cell_type": "code",
   "execution_count": 5,
   "metadata": {},
   "outputs": [],
   "source": [
    "insert_sql = \"\"\"\n",
    "INSERT INTO dogBreedsSelectors(\n",
    "    size,\n",
    "    popularity,\n",
    "    energy,\n",
    "    trainability,\n",
    "    grooming,\n",
    "    shedding,\n",
    "    demeanor,\n",
    "    friendliness\n",
    ")\n",
    "VALUES(?,?,?,?,?,?,?,?);\n",
    "\"\"\"\n",
    "\n",
    "cursor.executemany(insert_sql, data)\n",
    "connection.commit()\n",
    "\n"
   ]
  },
  {
   "cell_type": "markdown",
   "metadata": {},
   "source": [
    "Load breed descriptions"
   ]
  },
  {
   "cell_type": "code",
   "execution_count": 6,
   "metadata": {},
   "outputs": [
    {
     "name": "stdout",
     "output_type": "stream",
     "text": [
      "['Name', 'description', 'temperament', 'max_life_expectancy', 'image_url', 'rescue_id']\n"
     ]
    }
   ],
   "source": [
    "with open('..\\data\\dog_breeds_description.csv', 'r') as FILE:\n",
    "    reader = csv.reader(FILE)\n",
    "    data = list(reader)\n",
    "\n",
    "columns = data[0]\n",
    "data = data[1:]\n",
    "print(columns)"
   ]
  },
  {
   "cell_type": "code",
   "execution_count": 7,
   "metadata": {},
   "outputs": [],
   "source": [
    "# Drop table if it exists\n",
    "cursor.execute(\"DROP TABLE IF EXISTS dog_breeds_description;\")\n",
    "connection.commit()\n",
    "\n",
    "# Create the table\n",
    "sql = \"\"\"\n",
    "CREATE TABLE dogBreedsDescription(\n",
    "    id INTEGER PRIMARY KEY AUTOINCREMENT,\n",
    "    name TEXT,\n",
    "    description TEXT,\n",
    "    temperament TEXT,\n",
    "    maxLifeExpectancy INTEGER,\n",
    "    imageUrl TEXT,\n",
    "    rescueApiId INTEGER,\n",
    "    selected BOOLEAN DEFAULT false\n",
    ");\n",
    "\"\"\"\n",
    "\n",
    "cursor.execute(sql)\n",
    "connection.commit()"
   ]
  },
  {
   "cell_type": "code",
   "execution_count": 8,
   "metadata": {},
   "outputs": [],
   "source": [
    "insert_sql = \"\"\"\n",
    "INSERT INTO dogBreedsDescription(\n",
    "    name,\n",
    "    description,\n",
    "    temperament,\n",
    "    maxLifeExpectancy,\n",
    "    imageUrl,\n",
    "    rescueApiId\n",
    ")\n",
    "VALUES(?,?,?,?,?,?)\n",
    "\"\"\"\n",
    "\n",
    "cursor.executemany(insert_sql, data)\n",
    "connection.commit()\n",
    "\n"
   ]
  },
  {
   "cell_type": "markdown",
   "metadata": {},
   "source": [
    "Empty tables"
   ]
  },
  {
   "cell_type": "code",
   "execution_count": null,
   "metadata": {},
   "outputs": [],
   "source": [
    "cursor.execute('DROP TABLE IF EXISTS organizations;')\n",
    "connection.commit()\n",
    "\n",
    "sql = \"\"\" \n",
    "CREATE TABLE organizations(\n",
    "    id INTEGER PRIMARY KEY AUTOINCREMENT,\n",
    "    name TEXT,\n",
    "    about TEXT,\n",
    "    adoptionProcess TEXT,\n",
    "    distance INTEGER,\n",
    "    address TEXT,\n",
    "    city TEXT,\n",
    "    state TEXT,\n",
    "    zip TEXT,\n",
    "    email TEXT\n",
    ");\n",
    "\"\"\"\n",
    "\n",
    "cursor.execute(sql)\n",
    "connection.commit()\n"
   ]
  },
  {
   "cell_type": "code",
   "execution_count": 10,
   "metadata": {},
   "outputs": [],
   "source": [
    "cursor.execute('DROP TABLE IF EXISTS selected_dogs;')\n",
    "connection.commit()\n",
    "\n",
    "sql = \"\"\"\n",
    "CREATE TABLE selectedDogs(\n",
    "    id INTEGER PRIMARY KEY AUTOINCREMENT,\n",
    "    breedId INTEGER,\n",
    "    orgId INTEGER,\n",
    "    dogId INTEGER,\n",
    "    name TEXT,\n",
    "    sex TEXT,\n",
    "    age INTEGER,\n",
    "    size TEXT,\n",
    "    description TEXT,\n",
    "    imageUrl TEXT,\n",
    "    FOREIGN KEY (orgId) REFERENCES organizations(id),\n",
    "    FOREIGN KEY (breedId) REFERENCES dog_breeds_description(id)\n",
    ");\n",
    "\"\"\"\n",
    "\n",
    "cursor.execute(sql)\n",
    "connection.commit()\n"
   ]
  },
  {
   "cell_type": "code",
   "execution_count": 11,
   "metadata": {},
   "outputs": [],
   "source": [
    "cursor.close()\n",
    "connection.close()"
   ]
  }
 ],
 "metadata": {
  "kernelspec": {
   "display_name": "dev",
   "language": "python",
   "name": "python3"
  },
  "language_info": {
   "codemirror_mode": {
    "name": "ipython",
    "version": 3
   },
   "file_extension": ".py",
   "mimetype": "text/x-python",
   "name": "python",
   "nbconvert_exporter": "python",
   "pygments_lexer": "ipython3",
   "version": "3.11.11"
  }
 },
 "nbformat": 4,
 "nbformat_minor": 2
}
