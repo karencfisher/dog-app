{
 "cells": [
  {
   "cell_type": "code",
   "execution_count": 1,
   "metadata": {},
   "outputs": [],
   "source": [
    "import sqlite3\n",
    "import os\n",
    "import csv"
   ]
  },
  {
   "cell_type": "markdown",
   "metadata": {},
   "source": [
    "Create/connect to SQLite DB"
   ]
  },
  {
   "cell_type": "code",
   "execution_count": 2,
   "metadata": {},
   "outputs": [],
   "source": [
    "db_path = r'..\\DoggyMatch\\app\\src\\main\\assets\\database\\doggy.db'\n",
    "connection = sqlite3.connect(db_path)\n",
    "cursor = connection.cursor()"
   ]
  },
  {
   "cell_type": "markdown",
   "metadata": {},
   "source": [
    "Load breed selection data"
   ]
  },
  {
   "cell_type": "code",
   "execution_count": 3,
   "metadata": {},
   "outputs": [
    {
     "name": "stdout",
     "output_type": "stream",
     "text": [
      "['size', 'popularity', 'energy_level_category', 'trainability_category', 'grooming_frequency_category', 'shedding_category', 'demeanor_category', 'friendliness']\n"
     ]
    }
   ],
   "source": [
    "with open('..\\data\\dog_breeds_select.csv', 'r') as FILE:\n",
    "    reader = csv.reader(FILE)\n",
    "    data = list(reader)\n",
    "\n",
    "columns = data[0]\n",
    "data = data[1:]\n",
    "print(columns)\n"
   ]
  },
  {
   "cell_type": "code",
   "execution_count": 7,
   "metadata": {},
   "outputs": [],
   "source": [
    "# Drop table if it exists\n",
    "cursor.execute(\"DROP TABLE IF EXISTS dog_breeds_selectors;\")\n",
    "connection.commit()\n",
    "\n",
    "# Create the table\n",
    "sql = \"\"\"\n",
    "CREATE TABLE dog_breeds_selectors(\n",
    "    id INTEGER PRIMARY KEY AUTOINCREMENT,\n",
    "    size TEXT,\n",
    "    popularity TEXT,\n",
    "    energy_level_category TEXT,\n",
    "    trainability_category TEXT,\n",
    "    grooming_frequency_cateegory TEXT,\n",
    "    shedding_category TEXT,\n",
    "    demeanor_category TEXT,\n",
    "    friendliness TEXT\n",
    ");\n",
    "\"\"\"\n",
    "\n",
    "cursor.execute(sql)\n",
    "connection.commit()"
   ]
  },
  {
   "cell_type": "code",
   "execution_count": 8,
   "metadata": {},
   "outputs": [],
   "source": [
    "insert_sql = \"\"\"\n",
    "INSERT INTO dog_breeds_selectors(\n",
    "    size,\n",
    "    popularity,\n",
    "    energy_level_category,\n",
    "    trainability_category,\n",
    "    grooming_frequency_cateegory,\n",
    "    shedding_category,\n",
    "    demeanor_category,\n",
    "    friendliness\n",
    ")\n",
    "VALUES(?,?,?,?,?,?,?,?);\n",
    "\"\"\"\n",
    "\n",
    "cursor.executemany(insert_sql, data)\n",
    "connection.commit()\n",
    "\n"
   ]
  },
  {
   "cell_type": "markdown",
   "metadata": {},
   "source": [
    "Load breed descriptions"
   ]
  },
  {
   "cell_type": "code",
   "execution_count": 9,
   "metadata": {},
   "outputs": [
    {
     "name": "stdout",
     "output_type": "stream",
     "text": [
      "['Name', 'description', 'temperament', 'max_life_expectancy', 'image_url', 'rescue_id']\n"
     ]
    }
   ],
   "source": [
    "with open('..\\data\\dog_breeds_description.csv', 'r') as FILE:\n",
    "    reader = csv.reader(FILE)\n",
    "    data = list(reader)\n",
    "\n",
    "columns = data[0]\n",
    "data = data[1:]\n",
    "print(columns)"
   ]
  },
  {
   "cell_type": "code",
   "execution_count": 11,
   "metadata": {},
   "outputs": [],
   "source": [
    "# Drop table if it exists\n",
    "cursor.execute(\"DROP TABLE IF EXISTS dog_breeds_description;\")\n",
    "connection.commit()\n",
    "\n",
    "# Create the table\n",
    "sql = \"\"\"\n",
    "CREATE TABLE dog_breeds_description(\n",
    "    id INTEGER PRIMARY KEY AUTOINCREMENT,\n",
    "    Name TEXT,\n",
    "    Description TEXT,\n",
    "    Temperament TEXT,\n",
    "    Max_life_expectancy INTEGER,\n",
    "    Image_url TEXT,\n",
    "    Rescue_api_id INTEGER,\n",
    "    Selected BOOLEAN DEFAULT false\n",
    ");\n",
    "\"\"\"\n",
    "\n",
    "cursor.execute(sql)\n",
    "connection.commit()"
   ]
  },
  {
   "cell_type": "code",
   "execution_count": null,
   "metadata": {},
   "outputs": [],
   "source": [
    "insert_sql = \"\"\"\n",
    "INSERT INTO dog_breeds_description(\n",
    "    Name,\n",
    "    Description,\n",
    "    Temperament,\n",
    "    Max_life_expectancy,\n",
    "    Image_url,\n",
    "    Rescue_api_id\n",
    ")\n",
    "VALUES(?,?,?,?,?,?)\n",
    "\"\"\"\n",
    "\n",
    "cursor.executemany(insert_sql, data)\n",
    "connection.commit()\n",
    "\n"
   ]
  },
  {
   "cell_type": "markdown",
   "metadata": {},
   "source": [
    "Empty tables"
   ]
  },
  {
   "cell_type": "code",
   "execution_count": null,
   "metadata": {},
   "outputs": [],
   "source": [
    "cursor.execute('DROP TABLE IF EXISTS organizations;')\n",
    "connection.commit()\n",
    "\n",
    "sql = \"\"\" \n",
    "CREATE TABLE organizations(\n",
    "    id INTEGER PRIMARY KEY AUTOINCREMENT,\n",
    "    Name TEXT,\n",
    "    website TEXT,\n",
    "    phone TEXT,\n",
    "    email TEXT,\n",
    "    address TEXT,\n",
    "    city TEXT,\n",
    "    state TEXT,\n",
    "    zip_code TEXT,\n",
    "    distance INTEGER,\n",
    "    latitude REAL,\n",
    "    longitude REAL\n",
    ");\n",
    "\"\"\"\n",
    "\n",
    "cursor.execute(sql)\n",
    "connection.commit()\n"
   ]
  },
  {
   "cell_type": "code",
   "execution_count": null,
   "metadata": {},
   "outputs": [],
   "source": [
    "cursor.execute('DROP TABLE IF EXISTS selected_dogs;')\n",
    "connection.commit()\n",
    "\n",
    "sql = \"\"\"\n",
    "CREATE TABLE selected_dogs(\n",
    "    id INTEGER PRIMARY KEY AUTOINCREMENT,\n",
    "    breed_id INTEGER,\n",
    "    FOREIGN KEY (breed_id) REFERENCES dog_breeds_description(id),\n",
    "    org_id INTEGER,\n",
    "    FOREIGN KEY (org_id) REFERENCES organizations(id),\n",
    "    Name TEXT,\n",
    "    Description TEXT,\n",
    "    age INTEGER,\n",
    "    size TEXT,\n",
    "    demeanor TEXT,\n",
    "    img_url TEXT\n",
    ");\n",
    "\"\"\"\n",
    "\n",
    "cursor.execute(sql)\n",
    "connection.commit()\n"
   ]
  },
  {
   "cell_type": "code",
   "execution_count": null,
   "metadata": {},
   "outputs": [],
   "source": [
    "cursor.close()\n",
    "connection.close()"
   ]
  }
 ],
 "metadata": {
  "kernelspec": {
   "display_name": "dev",
   "language": "python",
   "name": "python3"
  },
  "language_info": {
   "codemirror_mode": {
    "name": "ipython",
    "version": 3
   },
   "file_extension": ".py",
   "mimetype": "text/x-python",
   "name": "python",
   "nbconvert_exporter": "python",
   "pygments_lexer": "ipython3",
   "version": "3.11.11"
  }
 },
 "nbformat": 4,
 "nbformat_minor": 2
}
